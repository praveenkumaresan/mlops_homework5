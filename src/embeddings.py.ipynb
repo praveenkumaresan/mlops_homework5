{
 "cells": [
  {
   "cell_type": "code",
   "id": "initial_id",
   "metadata": {
    "collapsed": true,
    "ExecuteTime": {
     "end_time": "2025-05-11T16:38:21.338460Z",
     "start_time": "2025-05-11T16:37:23.044984Z"
    }
   },
   "source": [
    "from sentence_transformers import SentenceTransformer\n",
    "import pandas as pd\n",
    "import numpy as np\n",
    "\n",
    "# Load the model\n",
    "model = SentenceTransformer('sentence-transformers/all-MiniLM-L6-v2')\n",
    "\n",
    "# Load your data\n",
    "df = pd.read_csv('/Users/praveenkumarkumaresan/code/mlops_homework5/data/6000_all_categories_questions.csv')  # Adjust the path as necessary\n",
    "\n",
    "# Generate embeddings for the 'excerpt' column\n",
    "df['embedding'] = df['prompt'].apply(lambda x: model.encode(x).tolist())\n",
    "\n",
    "# Save the embeddings for later use\n",
    "df.to_pickle('/Users/praveenkumarkumaresan/code/mlops_homework5/data/embeddings.pkl')"
   ],
   "outputs": [],
   "execution_count": 6
  },
  {
   "metadata": {
    "ExecuteTime": {
     "end_time": "2025-05-11T16:35:44.758496Z",
     "start_time": "2025-05-11T16:35:44.748334Z"
    }
   },
   "cell_type": "code",
   "source": "print(df.columns)",
   "id": "335f1e8da59a1786",
   "outputs": [
    {
     "name": "stdout",
     "output_type": "stream",
     "text": [
      "Index(['prompt', 'A', 'B', 'C', 'D', 'E', 'answer'], dtype='object')\n"
     ]
    }
   ],
   "execution_count": 4
  },
  {
   "metadata": {},
   "cell_type": "code",
   "outputs": [],
   "execution_count": null,
   "source": "# Build the inference pipeline",
   "id": "25cdee846eba2f3c"
  },
  {
   "metadata": {
    "ExecuteTime": {
     "end_time": "2025-05-11T16:39:47.652426Z",
     "start_time": "2025-05-11T16:39:45.032246Z"
    }
   },
   "cell_type": "code",
   "source": [
    "from sentence_transformers import SentenceTransformer\n",
    "import pandas as pd\n",
    "import numpy as np\n",
    "from sklearn.metrics.pairwise import cosine_similarity\n",
    "\n",
    "# Load the model and data\n",
    "model = SentenceTransformer('sentence-transformers/all-MiniLM-L6-v2')\n",
    "df = pd.read_pickle('/Users/praveenkumarkumaresan/code/mlops_homework5/data/embeddings.pkl')\n",
    "\n",
    "def retrieve_similar_excerpts(query, top_k=5):\n",
    "    # Generate embedding for the query\n",
    "    query_embedding = model.encode([query])\n",
    "\n",
    "    # Compute cosine similarities\n",
    "    similarities = cosine_similarity(query_embedding, df['embedding'].tolist())[0]\n",
    "\n",
    "    # Get indices of top_k similar excerpts\n",
    "    top_indices = similarities.argsort()[-top_k:][::-1]\n",
    "\n",
    "    # Retrieve the corresponding excerpts\n",
    "    results = df.iloc[top_indices]\n",
    "    return results[['excerpt', 'question']]\n"
   ],
   "id": "3efb183a48232b19",
   "outputs": [],
   "execution_count": 7
  },
  {
   "metadata": {
    "ExecuteTime": {
     "end_time": "2025-05-11T16:40:35.830618Z",
     "start_time": "2025-05-11T16:40:33.464217Z"
    }
   },
   "cell_type": "code",
   "source": [
    "from fastapi import FastAPI\n",
    "from pydantic import BaseModel\n",
    "from typing import List\n",
    "import pandas as pd\n",
    "\n",
    "app = FastAPI()\n",
    "\n",
    "# Load the model and data\n",
    "model = SentenceTransformer('sentence-transformers/all-MiniLM-L6-v2')\n",
    "df = pd.read_pickle('/Users/praveenkumarkumaresan/code/mlops_homework5/data/embeddings.pkl')\n",
    "\n",
    "class QueryRequest(BaseModel):\n",
    "    query: str\n",
    "    top_k: int = 5\n",
    "\n",
    "class QueryResponse(BaseModel):\n",
    "    excerpts: List[str]\n",
    "    questions: List[str]\n",
    "\n",
    "@app.post(\"/query\", response_model=QueryResponse)\n",
    "def query_excerpts(request: QueryRequest):\n",
    "    results = retrieve_similar_excerpts(request.query, request.top_k)\n",
    "    return QueryResponse(\n",
    "        excerpts=results['excerpt'].tolist(),\n",
    "        questions=results['question'].tolist()\n",
    "    )\n"
   ],
   "id": "53445a1a442285d4",
   "outputs": [],
   "execution_count": 8
  }
 ],
 "metadata": {
  "kernelspec": {
   "display_name": "Python 3",
   "language": "python",
   "name": "python3"
  },
  "language_info": {
   "codemirror_mode": {
    "name": "ipython",
    "version": 2
   },
   "file_extension": ".py",
   "mimetype": "text/x-python",
   "name": "python",
   "nbconvert_exporter": "python",
   "pygments_lexer": "ipython2",
   "version": "2.7.6"
  }
 },
 "nbformat": 4,
 "nbformat_minor": 5
}
